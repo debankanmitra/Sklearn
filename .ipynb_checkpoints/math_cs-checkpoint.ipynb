{
 "cells": [
  {
   "cell_type": "markdown",
   "id": "1eb4b425",
   "metadata": {},
   "source": [
    "## here we are finding if the slope and intercept matches with our gradient descent value"
   ]
  },
  {
   "cell_type": "code",
   "execution_count": 1,
   "id": "0d2a665f",
   "metadata": {},
   "outputs": [
    {
     "data": {
      "text/plain": [
       "1.9152193111569318"
      ]
     },
     "execution_count": 1,
     "metadata": {},
     "output_type": "execute_result"
    }
   ],
   "source": [
    "import pandas as pd \n",
    "from sklearn.linear_model import LinearRegression\n",
    "marks=pd.read_csv('https://raw.githubusercontent.com/codebasics/py/master/ML/3_gradient_descent/Exercise/test_scores.csv')\n",
    "regres=LinearRegression()\n",
    "regres.fit(marks[['math']],marks['cs'])\n",
    "regres.intercept_"
   ]
  },
  {
   "cell_type": "code",
   "execution_count": 2,
   "id": "022fdf6a",
   "metadata": {},
   "outputs": [
    {
     "data": {
      "text/plain": [
       "array([1.01773624])"
      ]
     },
     "execution_count": 2,
     "metadata": {},
     "output_type": "execute_result"
    }
   ],
   "source": [
    "regres.coef_  # slope"
   ]
  },
  {
   "cell_type": "code",
   "execution_count": null,
   "id": "d267aaae",
   "metadata": {},
   "outputs": [],
   "source": []
  }
 ],
 "metadata": {
  "kernelspec": {
   "display_name": "Python 3 (ipykernel)",
   "language": "python",
   "name": "python3"
  },
  "language_info": {
   "codemirror_mode": {
    "name": "ipython",
    "version": 3
   },
   "file_extension": ".py",
   "mimetype": "text/x-python",
   "name": "python",
   "nbconvert_exporter": "python",
   "pygments_lexer": "ipython3",
   "version": "3.10.5"
  }
 },
 "nbformat": 4,
 "nbformat_minor": 5
}
